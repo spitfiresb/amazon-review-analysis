{
 "cells": [
  {
   "cell_type": "code",
   "execution_count": 0,
   "metadata": {
    "application/vnd.databricks.v1+cell": {
     "cellMetadata": {
      "byteLimit": 2048000,
      "rowLimit": 10000
     },
     "inputWidgets": {},
     "nuid": "fe5bf6e8-b427-4344-a1da-03963a4c9971",
     "showTitle": false,
     "tableResultSettingsMap": {},
     "title": ""
    }
   },
   "outputs": [
    {
     "output_type": "stream",
     "name": "stdout",
     "output_type": "stream",
     "text": [
      "root\n |-- asin: string (nullable = true)\n |-- helpful: array (nullable = true)\n |    |-- element: long (containsNull = true)\n |-- overall: double (nullable = true)\n |-- reviewText: string (nullable = true)\n |-- reviewTime: string (nullable = true)\n |-- reviewerID: string (nullable = true)\n |-- reviewerName: string (nullable = true)\n |-- summary: string (nullable = true)\n |-- unixReviewTime: long (nullable = true)\n\n+----------+--------+-------+--------------------+-----------+--------------+---------------+--------------------+--------------+\n|      asin| helpful|overall|          reviewText| reviewTime|    reviewerID|   reviewerName|             summary|unixReviewTime|\n+----------+--------+-------+--------------------+-----------+--------------+---------------+--------------------+--------------+\n|B00002243X|  [4, 4]|    5.0|I needed a set of...|08 17, 2011|A3F73SC1LY51OO|Alan Montgomery|Work Well - Shoul...|    1313539200|\n|B00002243X|  [1, 1]|    4.0|These long cables...| 09 4, 2011|A20S66SKYXULG2|       alphonse|    Okay long cables|    1315094400|\n|B00002243X|  [0, 0]|    5.0|Can't comment muc...|07 25, 2013|A2I8LFSN2IS5EO|          Chris|Looks and feels h...|    1374710400|\n|B00002243X|[19, 19]|    5.0|I absolutley love...|12 21, 2010|A3GT2EWQSO45ZG|         DeusEx|Excellent choice ...|    1292889600|\n|B00002243X|  [0, 0]|    5.0|I purchased the 1...| 07 4, 2012|A3ESWJPAVRPWB4|   E. Hernandez|Excellent, High Q...|    1341360000|\n+----------+--------+-------+--------------------+-----------+--------------+---------------+--------------------+--------------+\nonly showing top 5 rows\n\n"
     ]
    }
   ],
   "source": [
    "from pyspark.sql import SparkSession\n",
    "\n",
    "# Initialize Spark session\n",
    "spark = SparkSession.builder.appName(\"Amazon Reviews Analysis\").getOrCreate()\n",
    "\n",
    "# Load JSON data\n",
    "df = spark.read.format(\"json\").load(\"dbfs:/FileStore/shared_uploads/zainsaeed024@gmail.com/Automotive_5-1.json\")\n",
    "\n",
    "# Inspect the data\n",
    "df.printSchema()\n",
    "df.show(5)"
   ]
  },
  {
   "cell_type": "markdown",
   "metadata": {
    "application/vnd.databricks.v1+cell": {
     "cellMetadata": {},
     "inputWidgets": {},
     "nuid": "a49c5b1e-2d42-44b6-8a9e-dcc5f1d3057a",
     "showTitle": false,
     "tableResultSettingsMap": {},
     "title": ""
    }
   },
   "source": [
    "## Basic Statistics"
   ]
  },
  {
   "cell_type": "code",
   "execution_count": 0,
   "metadata": {
    "application/vnd.databricks.v1+cell": {
     "cellMetadata": {
      "byteLimit": 2048000,
      "rowLimit": 10000
     },
     "inputWidgets": {},
     "nuid": "b9133742-954d-415a-a1f4-9888f250e231",
     "showTitle": false,
     "tableResultSettingsMap": {},
     "title": ""
    }
   },
   "outputs": [
    {
     "output_type": "stream",
     "name": "stdout",
     "output_type": "stream",
     "text": [
      "Total Reviews: 20473\n"
     ]
    }
   ],
   "source": [
    "print(f\"Total Reviews: {df.count()}\")"
   ]
  },
  {
   "cell_type": "markdown",
   "metadata": {
    "application/vnd.databricks.v1+cell": {
     "cellMetadata": {},
     "inputWidgets": {},
     "nuid": "4c813713-c634-405a-8c35-aea5107a2d79",
     "showTitle": false,
     "tableResultSettingsMap": {},
     "title": ""
    }
   },
   "source": [
    "## Check for nulls"
   ]
  },
  {
   "cell_type": "code",
   "execution_count": 0,
   "metadata": {
    "application/vnd.databricks.v1+cell": {
     "cellMetadata": {
      "byteLimit": 2048000,
      "rowLimit": 10000
     },
     "inputWidgets": {},
     "nuid": "34537ac7-653e-41fa-86cf-25d1dc4bbfbf",
     "showTitle": false,
     "tableResultSettingsMap": {},
     "title": ""
    }
   },
   "outputs": [
    {
     "output_type": "stream",
     "name": "stdout",
     "output_type": "stream",
     "text": [
      "++\n||\n++\n||\n++\n\n"
     ]
    }
   ],
   "source": [
    "from pyspark.sql.functions import col\n",
    "\n",
    "null_counts = df.select([col(c).isNull().alias(c) for c in df.columns]).groupBy().sum()\n",
    "null_counts.show()"
   ]
  },
  {
   "cell_type": "markdown",
   "metadata": {
    "application/vnd.databricks.v1+cell": {
     "cellMetadata": {},
     "inputWidgets": {},
     "nuid": "66f36bbc-d492-4568-8f1a-549cd1f0c697",
     "showTitle": false,
     "tableResultSettingsMap": {},
     "title": ""
    }
   },
   "source": [
    "## Generic Filtering of nulls"
   ]
  },
  {
   "cell_type": "code",
   "execution_count": 0,
   "metadata": {
    "application/vnd.databricks.v1+cell": {
     "cellMetadata": {
      "byteLimit": 2048000,
      "rowLimit": 10000
     },
     "inputWidgets": {},
     "nuid": "1e40cb99-e56c-4f78-a0c1-2bf58297fc05",
     "showTitle": false,
     "tableResultSettingsMap": {},
     "title": ""
    }
   },
   "outputs": [],
   "source": [
    "clean_df = df.filter(\n",
    "    col(\"reviewerID\").isNotNull() &\n",
    "    col(\"reviewText\").isNotNull() &\n",
    "    col(\"overall\").isNotNull()\n",
    ")"
   ]
  },
  {
   "cell_type": "code",
   "execution_count": 0,
   "metadata": {
    "application/vnd.databricks.v1+cell": {
     "cellMetadata": {
      "byteLimit": 2048000,
      "rowLimit": 10000
     },
     "inputWidgets": {},
     "nuid": "75cd6512-43df-4780-b355-b9066a97bd46",
     "showTitle": false,
     "tableResultSettingsMap": {},
     "title": ""
    }
   },
   "outputs": [
    {
     "output_type": "stream",
     "name": "stdout",
     "output_type": "stream",
     "text": [
      "+----------+------------+\n|      asin|avg(overall)|\n+----------+------------+\n|B000221M94|         5.0|\n|B000CSD6RE|         5.0|\n|B0000UUX34|         5.0|\n|B0002UEN1A|         5.0|\n|B000B8WCBG|         5.0|\n|B000C6KMAK|         5.0|\n|B000A0CA6W|         5.0|\n|B000BYDA8E|         5.0|\n|B000CQOIVE|         5.0|\n|B000C5O1VW|         5.0|\n+----------+------------+\nonly showing top 10 rows\n\n"
     ]
    }
   ],
   "source": [
    "# Average ratings by product\n",
    "avg_ratings = clean_df.groupBy(\"asin\").avg(\"overall\").orderBy(\"avg(overall)\", ascending=False)\n",
    "avg_ratings.show(10)"
   ]
  },
  {
   "cell_type": "code",
   "execution_count": 0,
   "metadata": {
    "application/vnd.databricks.v1+cell": {
     "cellMetadata": {
      "byteLimit": 2048000,
      "rowLimit": 10000
     },
     "inputWidgets": {},
     "nuid": "d4c3b04e-0590-4607-9449-12dba612eed5",
     "showTitle": false,
     "tableResultSettingsMap": {},
     "title": ""
    }
   },
   "outputs": [
    {
     "output_type": "stream",
     "name": "stdout",
     "output_type": "stream",
     "text": [
      "+----------+-----+\n|      asin|count|\n+----------+-----+\n|B000CITK8S|  169|\n|B007TG7HFO|  118|\n|B001V8U12M|  111|\n|B002BC4N5I|   90|\n|B002OUMVWY|   82|\n|B0009IQZFM|   79|\n|B00068XCQU|   79|\n|B000NCOKZQ|   79|\n|B0014Y82UQ|   79|\n|B001LHVOVK|   77|\n+----------+-----+\nonly showing top 10 rows\n\n"
     ]
    }
   ],
   "source": [
    "# Most reviewed products\n",
    "most_reviews = clean_df.groupBy(\"asin\").count().orderBy(\"count\", ascending=False)\n",
    "most_reviews.show(10)"
   ]
  },
  {
   "cell_type": "code",
   "execution_count": 0,
   "metadata": {
    "application/vnd.databricks.v1+cell": {
     "cellMetadata": {
      "byteLimit": 2048000,
      "rowLimit": 10000
     },
     "inputWidgets": {},
     "nuid": "aed32d46-7e6a-4b70-a33c-882b5f85b453",
     "showTitle": false,
     "tableResultSettingsMap": {},
     "title": ""
    }
   },
   "outputs": [
    {
     "output_type": "stream",
     "name": "stdout",
     "output_type": "stream",
     "text": [
      "+---------+-----+\n|sentiment|count|\n+---------+-----+\n| Positive| 9635|\n|  Neutral|10286|\n| Negative|  552|\n+---------+-----+\n\n"
     ]
    }
   ],
   "source": [
    "# Sentiment classification\n",
    "from pyspark.sql.functions import when\n",
    "\n",
    "sentiment_df = clean_df.withColumn(\n",
    "    \"sentiment\",\n",
    "    when(col(\"reviewText\").rlike(\"(?i)good|excellent|amazing|great|love\"), \"Positive\")\n",
    "    .when(col(\"reviewText\").rlike(\"(?i)bad|terrible|poor|hate\"), \"Negative\")\n",
    "    .otherwise(\"Neutral\")\n",
    ")\n",
    "\n",
    "sentiment_counts = sentiment_df.groupBy(\"sentiment\").count()\n",
    "sentiment_counts.show()"
   ]
  },
  {
   "cell_type": "code",
   "execution_count": 0,
   "metadata": {
    "application/vnd.databricks.v1+cell": {
     "cellMetadata": {
      "byteLimit": 2048000,
      "rowLimit": 10000
     },
     "inputWidgets": {},
     "nuid": "fa28aff3-403a-465f-a9b4-6990da3a6eca",
     "showTitle": false,
     "tableResultSettingsMap": {},
     "title": ""
    }
   },
   "outputs": [
    {
     "output_type": "stream",
     "name": "stdout",
     "output_type": "stream",
     "text": [
      "+----------+--------+-------+--------------------+-----------+--------------+---------------+--------------------+--------------+-------------+-----------+\n|      asin| helpful|overall|          reviewText| reviewTime|    reviewerID|   reviewerName|             summary|unixReviewTime|helpful_votes|total_votes|\n+----------+--------+-------+--------------------+-----------+--------------+---------------+--------------------+--------------+-------------+-----------+\n|B00002243X|  [4, 4]|    5.0|I needed a set of...|08 17, 2011|A3F73SC1LY51OO|Alan Montgomery|Work Well - Shoul...|    1313539200|            4|          4|\n|B00002243X|  [1, 1]|    4.0|These long cables...| 09 4, 2011|A20S66SKYXULG2|       alphonse|    Okay long cables|    1315094400|            1|          1|\n|B00002243X|  [0, 0]|    5.0|Can't comment muc...|07 25, 2013|A2I8LFSN2IS5EO|          Chris|Looks and feels h...|    1374710400|            0|          0|\n|B00002243X|[19, 19]|    5.0|I absolutley love...|12 21, 2010|A3GT2EWQSO45ZG|         DeusEx|Excellent choice ...|    1292889600|           19|         19|\n|B00002243X|  [0, 0]|    5.0|I purchased the 1...| 07 4, 2012|A3ESWJPAVRPWB4|   E. Hernandez|Excellent, High Q...|    1341360000|            0|          0|\n+----------+--------+-------+--------------------+-----------+--------------+---------------+--------------------+--------------+-------------+-----------+\nonly showing top 5 rows\n\n"
     ]
    }
   ],
   "source": [
    "helpful_df = clean_df.withColumn(\"helpful_votes\", col(\"helpful\")[0]).withColumn(\"total_votes\", col(\"helpful\")[1])\n",
    "helpful_df.show(5)"
   ]
  },
  {
   "cell_type": "code",
   "execution_count": 0,
   "metadata": {
    "application/vnd.databricks.v1+cell": {
     "cellMetadata": {
      "byteLimit": 2048000,
      "rowLimit": 10000
     },
     "inputWidgets": {},
     "nuid": "31a6d51f-6c8a-4fd1-b259-5bed9b1ba7e1",
     "showTitle": false,
     "tableResultSettingsMap": {},
     "title": ""
    }
   },
   "outputs": [
    {
     "output_type": "stream",
     "name": "stdout",
     "output_type": "stream",
     "text": [
      "+----------+--------+-------+--------------------+-----------+--------------+--------------------+--------------------+--------------+-------------+-----------+-----------------+\n|      asin| helpful|overall|          reviewText| reviewTime|    reviewerID|        reviewerName|             summary|unixReviewTime|helpful_votes|total_votes|helpfulness_ratio|\n+----------+--------+-------+--------------------+-----------+--------------+--------------------+--------------------+--------------+-------------+-----------+-----------------+\n|B008FYKOX6|  [1, 1]|    5.0|I got the 21&#34;...| 01 5, 2013| A1E1LEVQ9VQNK|         J. Chambers|My first impressi...|    1357344000|            1|          1|              1.0|\n|B0028PJ10K|  [1, 1]|    5.0|No more boards.  ...|07 11, 2013|A1MC3OZBUUYMYQ|    Andrew D Gardner|Durable and easy ...|    1373500800|            1|          1|              1.0|\n|B0000AXNMO|  [2, 2]|    4.0|Although the trea...|03 31, 2014|A34KAA7V803KJA|Charlie E. \"Charlie\"|         Good but...|    1396224000|            2|          2|              1.0|\n|B0028PJ10K|  [1, 1]|    5.0|recommend these f...|11 28, 2013| AYQNWE3AX4H08|   arl6969 \"arl6969\"| all typs of campers|    1385596800|            1|          1|              1.0|\n|B000EDST24|[13, 13]|    4.0|This is an effect...|04 15, 2010|A19XMHRB3G4DIR|           javajunki|Good Idea. Simple...|    1271289600|           13|         13|              1.0|\n|B0028JQYSS|  [1, 1]|    3.0|My garage has qui...|02 25, 2014|A3UZFW0JK0DJ2B|           S. Palmer|Not for very shor...|    1393286400|            1|          1|              1.0|\n|B0000ATZDE|  [2, 2]|    4.0|man it's hard to ...|01 18, 2010|A1XB48WXBCHM6N|      Tom Paine \"NB\"|saves your traile...|    1263772800|            2|          2|              1.0|\n|B0028PJ10K|  [1, 1]|    5.0|We bought these f...|10 30, 2012|A3CMG2LKTF8NL3|             backncy|Better than 2 by ...|    1351555200|            1|          1|              1.0|\n|B008JVFK02|  [1, 1]|    4.0|This isn't built ...|11 11, 2012|A34BZM6S9L7QI4|Candy Cane \"Is it...|  Good For the price|    1352592000|            1|          1|              1.0|\n|B0028JQZ5U|  [5, 5]|    5.0|Sturdy wheels and...|11 21, 2012|A20FCMSPME7K9N|           Misterart|          Heavy Duty|    1353456000|            5|          5|              1.0|\n+----------+--------+-------+--------------------+-----------+--------------+--------------------+--------------------+--------------+-------------+-----------+-----------------+\nonly showing top 10 rows\n\n"
     ]
    }
   ],
   "source": [
    "# Reviews with highest helpfullness ratio\n",
    "\n",
    "from pyspark.sql.functions import expr\n",
    "\n",
    "top_helpful_reviews = helpful_df.withColumn(\n",
    "    \"helpfulness_ratio\",\n",
    "    expr(\"helpful_votes / total_votes\")\n",
    ").orderBy(\"helpfulness_ratio\", ascending=False)\n",
    "top_helpful_reviews.show(10)"
   ]
  },
  {
   "cell_type": "code",
   "execution_count": 0,
   "metadata": {
    "application/vnd.databricks.v1+cell": {
     "cellMetadata": {},
     "inputWidgets": {},
     "nuid": "c6200186-17b6-4eb6-b1a4-67e0dfab0fe0",
     "showTitle": false,
     "tableResultSettingsMap": {},
     "title": ""
    }
   },
   "outputs": [],
   "source": []
  }
 ],
 "metadata": {
  "application/vnd.databricks.v1+notebook": {
   "computePreferences": null,
   "dashboards": [],
   "environmentMetadata": {
    "base_environment": "",
    "client": "1"
   },
   "language": "python",
   "notebookMetadata": {
    "pythonIndentUnit": 4
   },
   "notebookName": "Amazon Automotive Review Analysis",
   "widgets": {}
  }
 },
 "nbformat": 4,
 "nbformat_minor": 0
}
